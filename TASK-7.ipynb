{
 "cells": [
  {
   "cell_type": "code",
   "execution_count": 1,
   "id": "e63e4be1-fd0e-43ff-b767-325c944add40",
   "metadata": {},
   "outputs": [],
   "source": [
    "import sqlite3\n",
    "import pandas as pd\n",
    "import matplotlib.pyplot as plt"
   ]
  },
  {
   "cell_type": "code",
   "execution_count": 2,
   "id": "acb289eb-40d0-4546-894d-8c09bbb4dd66",
   "metadata": {},
   "outputs": [],
   "source": [
    "sample_data = [\n",
    "    ('Apples', 10, 2.5),\n",
    "    ('Bananas', 15, 1.2),\n",
    "    ('Oranges', 8, 3.0),\n",
    "    ('Apples', 5, 2.5),\n",
    "    ('Bananas', 10, 1.2)\n",
    "]"
   ]
  },
  {
   "cell_type": "code",
   "execution_count": 3,
   "id": "cf3df8a9-3614-41fb-b68e-7bb02c878851",
   "metadata": {},
   "outputs": [],
   "source": [
    "with sqlite3.connect(\"sales_data.db\") as conn:\n",
    "    cursor = conn.cursor()\n",
    "    cursor.execute(\"\"\"\n",
    "    CREATE TABLE IF NOT EXISTS sales (\n",
    "        id INTEGER PRIMARY KEY AUTOINCREMENT,\n",
    "        product TEXT,\n",
    "        quantity INTEGER,\n",
    "        price REAL\n",
    "    )\n",
    "    \"\"\")\n",
    "    cursor.executemany(\"INSERT INTO sales (product, quantity, price) VALUES (?, ?, ?)\", sample_data)\n",
    "    conn.commit()"
   ]
  },
  {
   "cell_type": "code",
   "execution_count": 4,
   "id": "bceaaf27-5f08-46d3-8b93-9d21afac58cd",
   "metadata": {},
   "outputs": [
    {
     "data": {
      "text/plain": [
       "<sqlite3.Cursor at 0x20495ed7840>"
      ]
     },
     "execution_count": 4,
     "metadata": {},
     "output_type": "execute_result"
    }
   ],
   "source": [
    "cursor.execute(\"DELETE FROM sales\")"
   ]
  },
  {
   "cell_type": "code",
   "execution_count": 5,
   "id": "b2c282cb-4191-4893-89e7-fbe471ebad0b",
   "metadata": {},
   "outputs": [],
   "source": [
    "with sqlite3.connect(\"sales_data.db\") as conn:\n",
    "    query = \"\"\"\n",
    "    SELECT \n",
    "        product, \n",
    "        SUM(quantity) AS total_qty, \n",
    "        SUM(quantity * price) AS revenue \n",
    "    FROM sales \n",
    "    GROUP BY product\n",
    "    \"\"\"\n",
    "    df = pd.read_sql_query(query, conn)"
   ]
  },
  {
   "cell_type": "code",
   "execution_count": 6,
   "id": "b610b5f5-bf60-4eed-bc9c-0d4e896f7e12",
   "metadata": {},
   "outputs": [
    {
     "name": "stdout",
     "output_type": "stream",
     "text": [
      "📊 Sales Summary:\n",
      "   product  total_qty  revenue\n",
      "0   Apples         75    187.5\n",
      "1  Bananas        125    150.0\n",
      "2  Oranges         40    120.0\n"
     ]
    },
    {
     "data": {
      "text/plain": [
       "<Figure size 800x500 with 0 Axes>"
      ]
     },
     "metadata": {},
     "output_type": "display_data"
    },
    {
     "data": {
      "image/png": "[encoded data removed]",
      "text/plain": [
       "<Figure size 640x480 with 1 Axes>"
      ]
     },
     "metadata": {},
     "output_type": "display_data"
    }
   ],
   "source": [
    "print(\"📊 Sales Summary:\")\n",
    "print(df)\n",
    "\n",
    "plt.figure(figsize=(8, 5))\n",
    "df.plot(kind='bar', x='product', y='revenue', legend=False, color='orange')\n",
    "plt.title(\"Revenue by Product\")\n",
    "plt.xlabel(\"Product\")\n",
    "plt.ylabel(\"Revenue\")\n",
    "plt.tight_layout()\n",
    "plt.savefig(\"sales_chart.png\")\n",
    "plt.show()"
   ]
  },
  {
   "cell_type": "code",
   "execution_count": 7,
   "id": "50411be9-1f7a-41e0-9bc3-73169becc720",
   "metadata": {},
   "outputs": [
    {
     "name": "stdout",
     "output_type": "stream",
     "text": [
      "📊 Sales Summary:\n",
      "   product  total_qty  revenue\n",
      "0   Apples         75    187.5\n",
      "1  Bananas        125    150.0\n",
      "2  Oranges         40    120.0\n"
     ]
    }
   ],
   "source": [
    "import pandas as pd\n",
    "\n",
    "with sqlite3.connect(\"sales_data.db\") as conn:\n",
    "    query = \"\"\"\n",
    "    SELECT \n",
    "        product, \n",
    "        SUM(quantity) AS total_qty, \n",
    "        SUM(quantity * price) AS revenue \n",
    "    FROM sales \n",
    "    GROUP BY product\n",
    "    \"\"\"\n",
    "    df = pd.read_sql_query(query, conn)\n",
    "\n",
    "print(\"📊 Sales Summary:\")\n",
    "print(df)"
   ]
  },
  {
   "cell_type": "code",
   "execution_count": null,
   "id": "d943071a-0221-4ede-89ce-40e19b44ca63",
   "metadata": {},
   "outputs": [],
   "source": []
  }
 ],
 "metadata": {
  "kernelspec": {
   "display_name": "Python 3 (ipykernel)",
   "language": "python",
   "name": "python3"
  },
  "language_info": {
   "codemirror_mode": {
    "name": "ipython",
    "version": 3
   },
   "file_extension": ".py",
   "mimetype": "text/x-python",
   "name": "python",
   "nbconvert_exporter": "python",
   "pygments_lexer": "ipython3",
   "version": "3.13.5"
  }
 },
 "nbformat": 4,
 "nbformat_minor": 5
}
